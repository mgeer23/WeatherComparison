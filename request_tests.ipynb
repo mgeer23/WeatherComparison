{
 "cells": [
  {
   "cell_type": "code",
   "execution_count": 1,
   "metadata": {},
   "outputs": [],
   "source": [
    "import requests\n",
    "import pandas as pd"
   ]
  },
  {
   "cell_type": "markdown",
   "metadata": {},
   "source": [
    "Set up of access to AccuWeather\n",
    "First need to get a location key from AccuWeather"
   ]
  },
  {
   "cell_type": "code",
   "execution_count": 7,
   "metadata": {},
   "outputs": [],
   "source": [
    "accu_key = 'VGouoDKF7whaPnsK9K0wLB3FD1CEMCVU'\n",
    "postcode_url = 'http://dataservice.accuweather.com/locations/v1/postalcodes/search'\n",
    "\n",
    "payload = {'apikey': accu_key, 'q': 'NP81LP'}"
   ]
  },
  {
   "cell_type": "code",
   "execution_count": 8,
   "metadata": {},
   "outputs": [],
   "source": [
    "r = requests.get(postcode_url, params=payload)"
   ]
  },
  {
   "cell_type": "code",
   "execution_count": 35,
   "metadata": {},
   "outputs": [
    {
     "name": "stdout",
     "output_type": "stream",
     "text": [
      "b'[{\"Version\":1,\"Key\":\"50163_PC\",\"Type\":\"PostalCode\",\"Rank\":85,\"LocalizedName\":\"Crickhowell\",\"EnglishName\":\"Crickhowell\",\"PrimaryPostalCode\":\"NP8 1\",\"Region\":{\"ID\":\"EUR\",\"LocalizedName\":\"Europe\",\"EnglishName\":\"Europe\"},\"Country\":{\"ID\":\"GB\",\"LocalizedName\":\"United Kingdom\",\"EnglishName\":\"United Kingdom\"},\"AdministrativeArea\":{\"ID\":\"POW\",\"LocalizedName\":\"Powys\",\"EnglishName\":\"Powys\",\"Level\":1,\"LocalizedType\":\"Unitary Authority\",\"EnglishType\":\"Unitary Authority\",\"CountryID\":\"GB\"},\"TimeZone\":{\"Code\":\"BST\",\"Name\":\"Europe/London\",\"GmtOffset\":1.0,\"IsDaylightSaving\":true,\"NextOffsetChange\":\"2024-10-27T01:00:00Z\"},\"GeoPosition\":{\"Latitude\":51.863,\"Longitude\":-3.185,\"Elevation\":{\"Metric\":{\"Value\":309.0,\"Unit\":\"m\",\"UnitType\":5},\"Imperial\":{\"Value\":1013.0,\"Unit\":\"ft\",\"UnitType\":0}}},\"IsAlias\":false,\"ParentCity\":{\"Key\":\"330372\",\"LocalizedName\":\"Crickhowell\",\"EnglishName\":\"Crickhowell\"},\"SupplementalAdminAreas\":[{\"Level\":0,\"LocalizedName\":\"Wales\",\"EnglishName\":\"Wales\"},{\"Level\":3,\"LocalizedName\":\"Crickhowell\",\"EnglishName\":\"Crickhowell\"},{\"Level\":3,\"LocalizedName\":\"Llangynidr\",\"EnglishName\":\"Llangynidr\"},{\"Level\":3,\"LocalizedName\":\"Llangattock\",\"EnglishName\":\"Llangattock\"},{\"Level\":3,\"LocalizedName\":\"Bwlch\",\"EnglishName\":\"Bwlch\"},{\"Level\":3,\"LocalizedName\":\"Llanelly Hill\",\"EnglishName\":\"Llanelly Hill\"},{\"Level\":3,\"LocalizedName\":\"Llanfoist Fawr\",\"EnglishName\":\"Llanfoist Fawr\"}],\"DataSets\":[\"AirQualityCurrentConditions\",\"AirQualityForecasts\",\"Alerts\",\"DailyPollenForecast\",\"ForecastConfidence\",\"FutureRadar\",\"MinuteCast\",\"Radar\"]}]'\n",
      "{'Version': 1, 'Key': '50163_PC', 'Type': 'PostalCode', 'Rank': 85, 'LocalizedName': 'Crickhowell', 'EnglishName': 'Crickhowell', 'PrimaryPostalCode': 'NP8 1', 'Region': {'ID': 'EUR', 'LocalizedName': 'Europe', 'EnglishName': 'Europe'}, 'Country': {'ID': 'GB', 'LocalizedName': 'United Kingdom', 'EnglishName': 'United Kingdom'}, 'AdministrativeArea': {'ID': 'POW', 'LocalizedName': 'Powys', 'EnglishName': 'Powys', 'Level': 1, 'LocalizedType': 'Unitary Authority', 'EnglishType': 'Unitary Authority', 'CountryID': 'GB'}, 'TimeZone': {'Code': 'BST', 'Name': 'Europe/London', 'GmtOffset': 1.0, 'IsDaylightSaving': True, 'NextOffsetChange': '2024-10-27T01:00:00Z'}, 'GeoPosition': {'Latitude': 51.863, 'Longitude': -3.185, 'Elevation': {'Metric': {'Value': 309.0, 'Unit': 'm', 'UnitType': 5}, 'Imperial': {'Value': 1013.0, 'Unit': 'ft', 'UnitType': 0}}}, 'IsAlias': False, 'ParentCity': {'Key': '330372', 'LocalizedName': 'Crickhowell', 'EnglishName': 'Crickhowell'}, 'SupplementalAdminAreas': [{'Level': 0, 'LocalizedName': 'Wales', 'EnglishName': 'Wales'}, {'Level': 3, 'LocalizedName': 'Crickhowell', 'EnglishName': 'Crickhowell'}, {'Level': 3, 'LocalizedName': 'Llangynidr', 'EnglishName': 'Llangynidr'}, {'Level': 3, 'LocalizedName': 'Llangattock', 'EnglishName': 'Llangattock'}, {'Level': 3, 'LocalizedName': 'Bwlch', 'EnglishName': 'Bwlch'}, {'Level': 3, 'LocalizedName': 'Llanelly Hill', 'EnglishName': 'Llanelly Hill'}, {'Level': 3, 'LocalizedName': 'Llanfoist Fawr', 'EnglishName': 'Llanfoist Fawr'}], 'DataSets': ['AirQualityCurrentConditions', 'AirQualityForecasts', 'Alerts', 'DailyPollenForecast', 'ForecastConfidence', 'FutureRadar', 'MinuteCast', 'Radar']}\n"
     ]
    }
   ],
   "source": [
    "print(r.content)\n",
    "response = r.json()[0]\n",
    "\n",
    "print(response)\n",
    "\n",
    "accu_loc_key = response['Key']"
   ]
  },
  {
   "cell_type": "markdown",
   "metadata": {},
   "source": [
    "Location key can then be used to access the 5 day forecast with a GET request"
   ]
  },
  {
   "cell_type": "code",
   "execution_count": 38,
   "metadata": {},
   "outputs": [],
   "source": [
    "# AccuWeather API for 5 day forcast\n",
    "accu_5d_url = 'http://dataservice.accuweather.com/forecasts/v1/daily/5day/'\n",
    "accu_5d_request = accu_5d_url + accu_loc_key\n",
    "\n",
    "payload = {'apikey': accu_key}\n",
    "\n",
    "r = requests.get(accu_5d_request, params = payload)"
   ]
  },
  {
   "cell_type": "code",
   "execution_count": 46,
   "metadata": {},
   "outputs": [
    {
     "name": "stdout",
     "output_type": "stream",
     "text": [
      "{\"Headline\":{\"EffectiveDate\":\"2024-08-05T20:00:00+01:00\",\"EffectiveEpochDate\":1722884400,\"Severity\":4,\"Text\":\"Expect rainy weather Monday evening through Tuesday morning\",\"Category\":\"rain\",\"EndDate\":\"2024-08-06T14:00:00+01:00\",\"EndEpochDate\":1722949200,\"MobileLink\":\"http://www.accuweather.com/en/gb/crickhowell/np8-1/daily-weather-forecast/50163_pc?lang=en-us\",\"Link\":\"http://www.accuweather.com/en/gb/crickhowell/np8-1/daily-weather-forecast/50163_pc?lang=en-us\"},\"DailyForecasts\":[{\"Date\":\"2024-08-01T07:00:00+01:00\",\"EpochDate\":1722492000,\"Temperature\":{\"Minimum\":{\"Value\":54.0,\"Unit\":\"F\",\"UnitType\":18},\"Maximum\":{\"Value\":76.0,\"Unit\":\"F\",\"UnitType\":18}},\"Day\":{\"Icon\":14,\"IconPhrase\":\"Partly sunny w/ showers\",\"HasPrecipitation\":true,\"PrecipitationType\":\"Rain\",\"PrecipitationIntensity\":\"Light\"},\"Night\":{\"Icon\":35,\"IconPhrase\":\"Partly cloudy\",\"HasPrecipitation\":false},\"Sources\":[\"AccuWeather\"],\"MobileLink\":\"http://www.accuweather.com/en/gb/crickhowell/np8-1/daily-weather-forecast/50163_pc?day=1&lang=en-us\",\"Link\":\"http://www.accuweather.com/en/gb/crickhowell/np8-1/daily-weather-forecast/50163_pc?day=1&lang=en-us\"},{\"Date\":\"2024-08-02T07:00:00+01:00\",\"EpochDate\":1722578400,\"Temperature\":{\"Minimum\":{\"Value\":57.0,\"Unit\":\"F\",\"UnitType\":18},\"Maximum\":{\"Value\":70.0,\"Unit\":\"F\",\"UnitType\":18}},\"Day\":{\"Icon\":14,\"IconPhrase\":\"Partly sunny w/ showers\",\"HasPrecipitation\":true,\"PrecipitationType\":\"Rain\",\"PrecipitationIntensity\":\"Light\"},\"Night\":{\"Icon\":12,\"IconPhrase\":\"Showers\",\"HasPrecipitation\":true,\"PrecipitationType\":\"Rain\",\"PrecipitationIntensity\":\"Light\"},\"Sources\":[\"AccuWeather\"],\"MobileLink\":\"http://www.accuweather.com/en/gb/crickhowell/np8-1/daily-weather-forecast/50163_pc?day=2&lang=en-us\",\"Link\":\"http://www.accuweather.com/en/gb/crickhowell/np8-1/daily-weather-forecast/50163_pc?day=2&lang=en-us\"},{\"Date\":\"2024-08-03T07:00:00+01:00\",\"EpochDate\":1722664800,\"Temperature\":{\"Minimum\":{\"Value\":49.0,\"Unit\":\"F\",\"UnitType\":18},\"Maximum\":{\"Value\":67.0,\"Unit\":\"F\",\"UnitType\":18}},\"Day\":{\"Icon\":6,\"IconPhrase\":\"Mostly cloudy\",\"HasPrecipitation\":false},\"Night\":{\"Icon\":38,\"IconPhrase\":\"Mostly cloudy\",\"HasPrecipitation\":false},\"Sources\":[\"AccuWeather\"],\"MobileLink\":\"http://www.accuweather.com/en/gb/crickhowell/np8-1/daily-weather-forecast/50163_pc?day=3&lang=en-us\",\"Link\":\"http://www.accuweather.com/en/gb/crickhowell/np8-1/daily-weather-forecast/50163_pc?day=3&lang=en-us\"},{\"Date\":\"2024-08-04T07:00:00+01:00\",\"EpochDate\":1722751200,\"Temperature\":{\"Minimum\":{\"Value\":54.0,\"Unit\":\"F\",\"UnitType\":18},\"Maximum\":{\"Value\":66.0,\"Unit\":\"F\",\"UnitType\":18}},\"Day\":{\"Icon\":7,\"IconPhrase\":\"Cloudy\",\"HasPrecipitation\":false},\"Night\":{\"Icon\":38,\"IconPhrase\":\"Mostly cloudy\",\"HasPrecipitation\":true,\"PrecipitationType\":\"Rain\",\"PrecipitationIntensity\":\"Light\"},\"Sources\":[\"AccuWeather\"],\"MobileLink\":\"http://www.accuweather.com/en/gb/crickhowell/np8-1/daily-weather-forecast/50163_pc?day=4&lang=en-us\",\"Link\":\"http://www.accuweather.com/en/gb/crickhowell/np8-1/daily-weather-forecast/50163_pc?day=4&lang=en-us\"},{\"Date\":\"2024-08-05T07:00:00+01:00\",\"EpochDate\":1722837600,\"Temperature\":{\"Minimum\":{\"Value\":58.0,\"Unit\":\"F\",\"UnitType\":18},\"Maximum\":{\"Value\":69.0,\"Unit\":\"F\",\"UnitType\":18}},\"Day\":{\"Icon\":7,\"IconPhrase\":\"Cloudy\",\"HasPrecipitation\":true,\"PrecipitationType\":\"Rain\",\"PrecipitationIntensity\":\"Moderate\"},\"Night\":{\"Icon\":12,\"IconPhrase\":\"Showers\",\"HasPrecipitation\":true,\"PrecipitationType\":\"Rain\",\"PrecipitationIntensity\":\"Heavy\"},\"Sources\":[\"AccuWeather\"],\"MobileLink\":\"http://www.accuweather.com/en/gb/crickhowell/np8-1/daily-weather-forecast/50163_pc?day=5&lang=en-us\",\"Link\":\"http://www.accuweather.com/en/gb/crickhowell/np8-1/daily-weather-forecast/50163_pc?day=5&lang=en-us\"}]}\n",
      "dict_keys(['Headline', 'DailyForecasts'])\n",
      "[{'Date': '2024-08-01T07:00:00+01:00', 'EpochDate': 1722492000, 'Temperature': {'Minimum': {'Value': 54.0, 'Unit': 'F', 'UnitType': 18}, 'Maximum': {'Value': 76.0, 'Unit': 'F', 'UnitType': 18}}, 'Day': {'Icon': 14, 'IconPhrase': 'Partly sunny w/ showers', 'HasPrecipitation': True, 'PrecipitationType': 'Rain', 'PrecipitationIntensity': 'Light'}, 'Night': {'Icon': 35, 'IconPhrase': 'Partly cloudy', 'HasPrecipitation': False}, 'Sources': ['AccuWeather'], 'MobileLink': 'http://www.accuweather.com/en/gb/crickhowell/np8-1/daily-weather-forecast/50163_pc?day=1&lang=en-us', 'Link': 'http://www.accuweather.com/en/gb/crickhowell/np8-1/daily-weather-forecast/50163_pc?day=1&lang=en-us'}, {'Date': '2024-08-02T07:00:00+01:00', 'EpochDate': 1722578400, 'Temperature': {'Minimum': {'Value': 57.0, 'Unit': 'F', 'UnitType': 18}, 'Maximum': {'Value': 70.0, 'Unit': 'F', 'UnitType': 18}}, 'Day': {'Icon': 14, 'IconPhrase': 'Partly sunny w/ showers', 'HasPrecipitation': True, 'PrecipitationType': 'Rain', 'PrecipitationIntensity': 'Light'}, 'Night': {'Icon': 12, 'IconPhrase': 'Showers', 'HasPrecipitation': True, 'PrecipitationType': 'Rain', 'PrecipitationIntensity': 'Light'}, 'Sources': ['AccuWeather'], 'MobileLink': 'http://www.accuweather.com/en/gb/crickhowell/np8-1/daily-weather-forecast/50163_pc?day=2&lang=en-us', 'Link': 'http://www.accuweather.com/en/gb/crickhowell/np8-1/daily-weather-forecast/50163_pc?day=2&lang=en-us'}, {'Date': '2024-08-03T07:00:00+01:00', 'EpochDate': 1722664800, 'Temperature': {'Minimum': {'Value': 49.0, 'Unit': 'F', 'UnitType': 18}, 'Maximum': {'Value': 67.0, 'Unit': 'F', 'UnitType': 18}}, 'Day': {'Icon': 6, 'IconPhrase': 'Mostly cloudy', 'HasPrecipitation': False}, 'Night': {'Icon': 38, 'IconPhrase': 'Mostly cloudy', 'HasPrecipitation': False}, 'Sources': ['AccuWeather'], 'MobileLink': 'http://www.accuweather.com/en/gb/crickhowell/np8-1/daily-weather-forecast/50163_pc?day=3&lang=en-us', 'Link': 'http://www.accuweather.com/en/gb/crickhowell/np8-1/daily-weather-forecast/50163_pc?day=3&lang=en-us'}, {'Date': '2024-08-04T07:00:00+01:00', 'EpochDate': 1722751200, 'Temperature': {'Minimum': {'Value': 54.0, 'Unit': 'F', 'UnitType': 18}, 'Maximum': {'Value': 66.0, 'Unit': 'F', 'UnitType': 18}}, 'Day': {'Icon': 7, 'IconPhrase': 'Cloudy', 'HasPrecipitation': False}, 'Night': {'Icon': 38, 'IconPhrase': 'Mostly cloudy', 'HasPrecipitation': True, 'PrecipitationType': 'Rain', 'PrecipitationIntensity': 'Light'}, 'Sources': ['AccuWeather'], 'MobileLink': 'http://www.accuweather.com/en/gb/crickhowell/np8-1/daily-weather-forecast/50163_pc?day=4&lang=en-us', 'Link': 'http://www.accuweather.com/en/gb/crickhowell/np8-1/daily-weather-forecast/50163_pc?day=4&lang=en-us'}, {'Date': '2024-08-05T07:00:00+01:00', 'EpochDate': 1722837600, 'Temperature': {'Minimum': {'Value': 58.0, 'Unit': 'F', 'UnitType': 18}, 'Maximum': {'Value': 69.0, 'Unit': 'F', 'UnitType': 18}}, 'Day': {'Icon': 7, 'IconPhrase': 'Cloudy', 'HasPrecipitation': True, 'PrecipitationType': 'Rain', 'PrecipitationIntensity': 'Moderate'}, 'Night': {'Icon': 12, 'IconPhrase': 'Showers', 'HasPrecipitation': True, 'PrecipitationType': 'Rain', 'PrecipitationIntensity': 'Heavy'}, 'Sources': ['AccuWeather'], 'MobileLink': 'http://www.accuweather.com/en/gb/crickhowell/np8-1/daily-weather-forecast/50163_pc?day=5&lang=en-us', 'Link': 'http://www.accuweather.com/en/gb/crickhowell/np8-1/daily-weather-forecast/50163_pc?day=5&lang=en-us'}]\n",
      "{'Date': '2024-08-01T07:00:00+01:00', 'EpochDate': 1722492000, 'Temperature': {'Minimum': {'Value': 54.0, 'Unit': 'F', 'UnitType': 18}, 'Maximum': {'Value': 76.0, 'Unit': 'F', 'UnitType': 18}}, 'Day': {'Icon': 14, 'IconPhrase': 'Partly sunny w/ showers', 'HasPrecipitation': True, 'PrecipitationType': 'Rain', 'PrecipitationIntensity': 'Light'}, 'Night': {'Icon': 35, 'IconPhrase': 'Partly cloudy', 'HasPrecipitation': False}, 'Sources': ['AccuWeather'], 'MobileLink': 'http://www.accuweather.com/en/gb/crickhowell/np8-1/daily-weather-forecast/50163_pc?day=1&lang=en-us', 'Link': 'http://www.accuweather.com/en/gb/crickhowell/np8-1/daily-weather-forecast/50163_pc?day=1&lang=en-us'}\n",
      "{'Date': '2024-08-02T07:00:00+01:00', 'EpochDate': 1722578400, 'Temperature': {'Minimum': {'Value': 57.0, 'Unit': 'F', 'UnitType': 18}, 'Maximum': {'Value': 70.0, 'Unit': 'F', 'UnitType': 18}}, 'Day': {'Icon': 14, 'IconPhrase': 'Partly sunny w/ showers', 'HasPrecipitation': True, 'PrecipitationType': 'Rain', 'PrecipitationIntensity': 'Light'}, 'Night': {'Icon': 12, 'IconPhrase': 'Showers', 'HasPrecipitation': True, 'PrecipitationType': 'Rain', 'PrecipitationIntensity': 'Light'}, 'Sources': ['AccuWeather'], 'MobileLink': 'http://www.accuweather.com/en/gb/crickhowell/np8-1/daily-weather-forecast/50163_pc?day=2&lang=en-us', 'Link': 'http://www.accuweather.com/en/gb/crickhowell/np8-1/daily-weather-forecast/50163_pc?day=2&lang=en-us'}\n",
      "{'Date': '2024-08-03T07:00:00+01:00', 'EpochDate': 1722664800, 'Temperature': {'Minimum': {'Value': 49.0, 'Unit': 'F', 'UnitType': 18}, 'Maximum': {'Value': 67.0, 'Unit': 'F', 'UnitType': 18}}, 'Day': {'Icon': 6, 'IconPhrase': 'Mostly cloudy', 'HasPrecipitation': False}, 'Night': {'Icon': 38, 'IconPhrase': 'Mostly cloudy', 'HasPrecipitation': False}, 'Sources': ['AccuWeather'], 'MobileLink': 'http://www.accuweather.com/en/gb/crickhowell/np8-1/daily-weather-forecast/50163_pc?day=3&lang=en-us', 'Link': 'http://www.accuweather.com/en/gb/crickhowell/np8-1/daily-weather-forecast/50163_pc?day=3&lang=en-us'}\n",
      "{'Date': '2024-08-04T07:00:00+01:00', 'EpochDate': 1722751200, 'Temperature': {'Minimum': {'Value': 54.0, 'Unit': 'F', 'UnitType': 18}, 'Maximum': {'Value': 66.0, 'Unit': 'F', 'UnitType': 18}}, 'Day': {'Icon': 7, 'IconPhrase': 'Cloudy', 'HasPrecipitation': False}, 'Night': {'Icon': 38, 'IconPhrase': 'Mostly cloudy', 'HasPrecipitation': True, 'PrecipitationType': 'Rain', 'PrecipitationIntensity': 'Light'}, 'Sources': ['AccuWeather'], 'MobileLink': 'http://www.accuweather.com/en/gb/crickhowell/np8-1/daily-weather-forecast/50163_pc?day=4&lang=en-us', 'Link': 'http://www.accuweather.com/en/gb/crickhowell/np8-1/daily-weather-forecast/50163_pc?day=4&lang=en-us'}\n",
      "{'Date': '2024-08-05T07:00:00+01:00', 'EpochDate': 1722837600, 'Temperature': {'Minimum': {'Value': 58.0, 'Unit': 'F', 'UnitType': 18}, 'Maximum': {'Value': 69.0, 'Unit': 'F', 'UnitType': 18}}, 'Day': {'Icon': 7, 'IconPhrase': 'Cloudy', 'HasPrecipitation': True, 'PrecipitationType': 'Rain', 'PrecipitationIntensity': 'Moderate'}, 'Night': {'Icon': 12, 'IconPhrase': 'Showers', 'HasPrecipitation': True, 'PrecipitationType': 'Rain', 'PrecipitationIntensity': 'Heavy'}, 'Sources': ['AccuWeather'], 'MobileLink': 'http://www.accuweather.com/en/gb/crickhowell/np8-1/daily-weather-forecast/50163_pc?day=5&lang=en-us', 'Link': 'http://www.accuweather.com/en/gb/crickhowell/np8-1/daily-weather-forecast/50163_pc?day=5&lang=en-us'}\n"
     ]
    }
   ],
   "source": [
    "print(r.text)\n",
    "response = r.json()\n",
    "\n",
    "print(response.keys())\n",
    "print(response['DailyForecasts'])\n",
    "\n",
    "for day in response['DailyForecasts']:\n",
    "    print(day)"
   ]
  },
  {
   "cell_type": "markdown",
   "metadata": {},
   "source": [
    "GET of current weather for the location"
   ]
  },
  {
   "cell_type": "code",
   "execution_count": 47,
   "metadata": {},
   "outputs": [],
   "source": [
    "accu_curr_url = 'http://dataservice.accuweather.com/currentconditions/v1/'\n",
    "accu_curr_request = accu_curr_url + accu_loc_key\n",
    "\n",
    "payload = {'apikey': accu_key}\n",
    "\n",
    "r = requests.get(accu_curr_request, params = payload)"
   ]
  },
  {
   "cell_type": "code",
   "execution_count": 51,
   "metadata": {},
   "outputs": [
    {
     "name": "stdout",
     "output_type": "stream",
     "text": [
      "{'LocalObservationDateTime': '2024-08-01T10:46:00+01:00', 'EpochTime': 1722505560, 'WeatherText': 'Mostly sunny', 'WeatherIcon': 2, 'HasPrecipitation': False, 'PrecipitationType': None, 'IsDayTime': True, 'Temperature': {'Metric': {'Value': 19.5, 'Unit': 'C', 'UnitType': 17}, 'Imperial': {'Value': 67.0, 'Unit': 'F', 'UnitType': 18}}, 'MobileLink': 'http://www.accuweather.com/en/gb/crickhowell/np8-1/current-weather/50163_pc?lang=en-us', 'Link': 'http://www.accuweather.com/en/gb/crickhowell/np8-1/current-weather/50163_pc?lang=en-us'}\n"
     ]
    }
   ],
   "source": [
    "response = r.json()[0]\n",
    "print(response)"
   ]
  }
 ],
 "metadata": {
  "kernelspec": {
   "display_name": ".venv",
   "language": "python",
   "name": "python3"
  },
  "language_info": {
   "codemirror_mode": {
    "name": "ipython",
    "version": 3
   },
   "file_extension": ".py",
   "mimetype": "text/x-python",
   "name": "python",
   "nbconvert_exporter": "python",
   "pygments_lexer": "ipython3",
   "version": "3.12.4"
  }
 },
 "nbformat": 4,
 "nbformat_minor": 2
}
